{
  "nbformat": 4,
  "nbformat_minor": 0,
  "metadata": {
    "colab": {
      "name": "Copy of Welcome To Colaboratory",
      "provenance": [],
      "collapsed_sections": [],
      "toc_visible": true,
      "include_colab_link": true
    },
    "kernelspec": {
      "display_name": "Python 3",
      "name": "python3"
    }
  },
  "cells": [
    {
      "cell_type": "markdown",
      "metadata": {
        "id": "view-in-github",
        "colab_type": "text"
      },
      "source": [
        "<a href=\"https://colab.research.google.com/github/gurumoorthy1989/Guru/blob/master/Copy_of_Welcome_To_Colaboratory.ipynb\" target=\"_parent\"><img src=\"https://colab.research.google.com/assets/colab-badge.svg\" alt=\"Open In Colab\"/></a>"
      ]
    },
    {
      "cell_type": "markdown",
      "metadata": {
        "colab_type": "text",
        "id": "5fCEDCU_qrC0"
      },
      "source": [
        "<p><img alt=\"Colaboratory logo\" height=\"45px\" src=\"/img/colab_favicon.ico\" align=\"left\" hspace=\"10px\" vspace=\"0px\"></p>\n",
        "\n",
        "<h1>Welcome to Colaboratory!</h1>\n",
        "\n",
        "\n",
        "Colaboratory is a free Jupyter notebook environment that requires no setup and runs entirely in the cloud.\n",
        "\n",
        "With Colaboratory you can write and execute code, save and share your analyses, and access powerful computing resources, all for free from your browser."
      ]
    },
    {
      "cell_type": "code",
      "metadata": {
        "id": "e2r_wRFL3RmP",
        "colab_type": "code",
        "outputId": "5a86a732-aa84-4986-baa3-ad9d403b59d6",
        "colab": {
          "base_uri": "https://localhost:8080/",
          "height": 54
        }
      },
      "source": [
        "!pip install -q sklearn\n",
        "%tensorflow_version 2.x\n",
        "from __future__ import absolute_import, division, print_function, unicode_literals\n",
        "import numpy as np\n",
        "import pandas as pd\n",
        "import matplotlib.pyplot as plt\n",
        "from IPython.display import clear_output\n",
        "from six.moves import urllib\n",
        "import tensorflow.compat.v2.feature_column as fc\n",
        "import tensorflow as tf\n",
        "dftrain = pd.read_csv('https://storage.googleapis.com/tf-datasets/titanic/train.csv')\n",
        "dfeval = pd.read_csv('https://storage.googleapis.com/tf-datasets/titanic/eval.csv')\n",
        "y_train = dftrain.pop('survived')\n",
        "y_eval = dfeval.pop('survived')\n",
        "CATEGORICAL_COLUMNS = ['sex', 'n_siblings_spouses','parch', 'class', 'deck', 'embark_town', 'alone']\n",
        "NUMERIC_COLUMNS = ['age','fare']\n",
        "feature_columns = []\n",
        "for feature_name in CATEGORICAL_COLUMNS:\n",
        "    vocabulary = dftrain[feature_name].unique()\n",
        "    feature_columns.append(tf.feature_column.categorical_column_with_vocabulary_list(feature_name,vocabulary))\n",
        "for feature_name in NUMERIC_COLUMNS:\n",
        "    feature_columns.append(tf.feature_column.numeric_column(feature_name,dtype=tf.float32))\n",
        "print(feature_columns)\n",
        "def make_input_fn(data_df, label_df, num_epochs=10, shuffle=True, batch_size=32):\n",
        "  def input_function():\n",
        "    ds = tf.data.Dataset.from_tensor_slices((dict(data_df), label_df))\n",
        "    if shuffle:\n",
        "      ds = ds.shuffle(1000)\n",
        "    ds = ds.batch(batch_size).repeat(num_epochs)\n",
        "    return ds\n",
        "  return input_function\n",
        "train_input_fn = make_input_fn(dftrain, y_train)\n",
        "eval_input_fn = make_input_fn(dftrain, y_eval, num_epochs=1, shuffle=False)\n"
      ],
      "execution_count": 0,
      "outputs": [
        {
          "output_type": "stream",
          "text": [
            "[VocabularyListCategoricalColumn(key='sex', vocabulary_list=('male', 'female'), dtype=tf.string, default_value=-1, num_oov_buckets=0), VocabularyListCategoricalColumn(key='n_siblings_spouses', vocabulary_list=(1, 0, 3, 4, 2, 5, 8), dtype=tf.int64, default_value=-1, num_oov_buckets=0), VocabularyListCategoricalColumn(key='parch', vocabulary_list=(0, 1, 2, 5, 3, 4), dtype=tf.int64, default_value=-1, num_oov_buckets=0), VocabularyListCategoricalColumn(key='class', vocabulary_list=('Third', 'First', 'Second'), dtype=tf.string, default_value=-1, num_oov_buckets=0), VocabularyListCategoricalColumn(key='deck', vocabulary_list=('unknown', 'C', 'G', 'A', 'B', 'D', 'F', 'E'), dtype=tf.string, default_value=-1, num_oov_buckets=0), VocabularyListCategoricalColumn(key='embark_town', vocabulary_list=('Southampton', 'Cherbourg', 'Queenstown', 'unknown'), dtype=tf.string, default_value=-1, num_oov_buckets=0), VocabularyListCategoricalColumn(key='alone', vocabulary_list=('n', 'y'), dtype=tf.string, default_value=-1, num_oov_buckets=0), NumericColumn(key='age', shape=(1,), default_value=None, dtype=tf.float32, normalizer_fn=None), NumericColumn(key='fare', shape=(1,), default_value=None, dtype=tf.float32, normalizer_fn=None)]\n"
          ],
          "name": "stdout"
        }
      ]
    },
    {
      "cell_type": "code",
      "metadata": {
        "id": "Q8QwPXc66-AZ",
        "colab_type": "code",
        "outputId": "f638e2e3-b750-421e-bb94-bafafe173fef",
        "colab": {
          "base_uri": "https://localhost:8080/",
          "height": 71
        }
      },
      "source": [
        "linear_est = tf.estimator.LinearClassifier(feature_columns=feature_columns)\n",
        "\n",
        "linear_est.train(train_input_fn)\n",
        "\n",
        "result = linear_est.evaluate(train_input_fn)\n",
        "\n",
        "clear_output()\n",
        "\n",
        "print(result['accuracy'])\n",
        "print(result)\n"
      ],
      "execution_count": 0,
      "outputs": [
        {
          "output_type": "stream",
          "text": [
            "0.80701756\n",
            "{'accuracy': 0.80701756, 'accuracy_baseline': 0.61244017, 'auc': 0.8683288, 'auc_precision_recall': 0.8432804, 'average_loss': 0.42718956, 'label/mean': 0.3875598, 'loss': 0.42668313, 'precision': 0.7584746, 'prediction/mean': 0.40254092, 'recall': 0.7366255, 'global_step': 200}\n"
          ],
          "name": "stdout"
        }
      ]
    },
    {
      "cell_type": "code",
      "metadata": {
        "id": "s-gy9C7jQt3H",
        "colab_type": "code",
        "colab": {}
      },
      "source": [
        ""
      ],
      "execution_count": 0,
      "outputs": []
    },
    {
      "cell_type": "code",
      "metadata": {
        "id": "gaOM1TulIft9",
        "colab_type": "code",
        "outputId": "cfdb1fa5-9d35-4c85-cea0-ad9b5b1742c4",
        "colab": {
          "base_uri": "https://localhost:8080/",
          "height": 1000
        }
      },
      "source": [
        "#Classification\n",
        "!pip install -q sklearn\n",
        "%tensorflow_version 2.x\n",
        "#import and setup\n",
        "from __future__ import absolute_import, division, print_function, unicode_literals\n",
        "import numpy as np\n",
        "import pandas as pd\n",
        "import matplotlib.pyplot as plt\n",
        "from IPython.display import clear_output\n",
        "from six.moves import urllib\n",
        "import tensorflow.compat.v2.feature_column as fc\n",
        "import tensorflow as tf\n",
        "CSV_COLUMN_NAMES = ['SepalLength', 'SepalWidth', 'PetalLength', 'PetalWidth', 'Species', ]\n",
        "SPECIES = ['Setosa', 'Versicolour', 'Virginica']\n",
        "train_path = tf.keras.utils.get_file(\n",
        "    \"iris_training.csv\", \"https://storage.googleapis.com/download.tensorflow.org/data/iris_training.csv\")\n",
        "test_path = tf.keras.utils.get_file(\n",
        "    \"iris_test.csv\", \"https://storage.googleapis.com/download.tensorflow.org/data/iris_test.csv\")\n",
        "train = pd.read_csv(train_path, names=CSV_COLUMN_NAMES, header=0)\n",
        "test = pd.read_csv(test_path, names=CSV_COLUMN_NAMES, header=0)\n",
        "\n",
        "train_y = train.pop('Species')\n",
        "test_y = test.pop('Species')\n",
        "\n",
        "#Input function\n",
        "def input_fn(features, labels, training=True, batch_size=256):\n",
        "    #convert the input into dataset\n",
        "    dataset = tf.data.Dataset.from_tensor_slices((dict(features), labels))\n",
        "    #Shuffle and repeat if yuou are in training mode\n",
        "    if training:\n",
        "        dataset = dataset.shuffle(1000).repeat()\n",
        "    return dataset.batch(batch_size)\n",
        "\n",
        "#feature columns   \n",
        "my_feature_columns = []\n",
        "for key in train.keys():\n",
        "    my_feature_columns.append(tf.feature_column.numeric_column(key=key))\n",
        "\n",
        "#Building the model\n",
        "#build a DNN (Deep Neural Network) with 2 hidden layer with 30 and 10 hidden nodes each.\n",
        "classifier = tf.estimator.DNNClassifier(\n",
        "    feature_columns=my_feature_columns,\n",
        "    #two hidden layersof 30 and 10 nodes respectively\n",
        "    hidden_units=[30, 10],\n",
        "    # the model must choose between 3 classes\n",
        "    n_classes=3)\n",
        "\n",
        "#Training the model\n",
        "classifier.train(\n",
        "    input_fn=lambda: input_fn(train, train_y, training=True),\n",
        "    steps=5000)\n",
        "#calling function inside function x= lambda: print(\"hi\")---x()\n",
        "#last model we have return the function but by using lambda we dont want here\n",
        "\n",
        "\n"
      ],
      "execution_count": 21,
      "outputs": [
        {
          "output_type": "stream",
          "text": [
            "INFO:tensorflow:Using default config.\n",
            "WARNING:tensorflow:Using temporary folder as model directory: /tmp/tmpibn0d9pn\n",
            "INFO:tensorflow:Using config: {'_model_dir': '/tmp/tmpibn0d9pn', '_tf_random_seed': None, '_save_summary_steps': 100, '_save_checkpoints_steps': None, '_save_checkpoints_secs': 600, '_session_config': allow_soft_placement: true\n",
            "graph_options {\n",
            "  rewrite_options {\n",
            "    meta_optimizer_iterations: ONE\n",
            "  }\n",
            "}\n",
            ", '_keep_checkpoint_max': 5, '_keep_checkpoint_every_n_hours': 10000, '_log_step_count_steps': 100, '_train_distribute': None, '_device_fn': None, '_protocol': None, '_eval_distribute': None, '_experimental_distribute': None, '_experimental_max_worker_delay_secs': None, '_session_creation_timeout_secs': 7200, '_service': None, '_cluster_spec': ClusterSpec({}), '_task_type': 'worker', '_task_id': 0, '_global_id_in_cluster': 0, '_master': '', '_evaluation_master': '', '_is_chief': True, '_num_ps_replicas': 0, '_num_worker_replicas': 1}\n",
            "INFO:tensorflow:Calling model_fn.\n",
            "WARNING:tensorflow:Layer dnn is casting an input tensor from dtype float64 to the layer's dtype of float32, which is new behavior in TensorFlow 2.  The layer has dtype float32 because it's dtype defaults to floatx.\n",
            "\n",
            "If you intended to run this layer in float32, you can safely ignore this warning. If in doubt, this warning is likely only an issue if you are porting a TensorFlow 1.X model to TensorFlow 2.\n",
            "\n",
            "To change all layers to have dtype float64 by default, call `tf.keras.backend.set_floatx('float64')`. To change just this layer, pass dtype='float64' to the layer constructor. If you are the author of this layer, you can disable autocasting by passing autocast=False to the base Layer constructor.\n",
            "\n",
            "INFO:tensorflow:Done calling model_fn.\n",
            "INFO:tensorflow:Create CheckpointSaverHook.\n",
            "INFO:tensorflow:Graph was finalized.\n",
            "INFO:tensorflow:Running local_init_op.\n",
            "INFO:tensorflow:Done running local_init_op.\n",
            "INFO:tensorflow:Calling checkpoint listeners before saving checkpoint 0...\n",
            "INFO:tensorflow:Saving checkpoints for 0 into /tmp/tmpibn0d9pn/model.ckpt.\n",
            "INFO:tensorflow:Calling checkpoint listeners after saving checkpoint 0...\n",
            "INFO:tensorflow:loss = 0.8432935, step = 0\n",
            "INFO:tensorflow:global_step/sec: 473.294\n",
            "INFO:tensorflow:loss = 0.6682485, step = 100 (0.214 sec)\n",
            "INFO:tensorflow:global_step/sec: 673.752\n",
            "INFO:tensorflow:loss = 0.6027897, step = 200 (0.149 sec)\n",
            "INFO:tensorflow:global_step/sec: 672.911\n",
            "INFO:tensorflow:loss = 0.5901829, step = 300 (0.147 sec)\n",
            "INFO:tensorflow:global_step/sec: 643.835\n",
            "INFO:tensorflow:loss = 0.55636907, step = 400 (0.155 sec)\n",
            "INFO:tensorflow:global_step/sec: 639.089\n",
            "INFO:tensorflow:loss = 0.53981197, step = 500 (0.157 sec)\n",
            "INFO:tensorflow:global_step/sec: 636.965\n",
            "INFO:tensorflow:loss = 0.5437726, step = 600 (0.159 sec)\n",
            "INFO:tensorflow:global_step/sec: 647.182\n",
            "INFO:tensorflow:loss = 0.51793206, step = 700 (0.152 sec)\n",
            "INFO:tensorflow:global_step/sec: 668.376\n",
            "INFO:tensorflow:loss = 0.517089, step = 800 (0.150 sec)\n",
            "INFO:tensorflow:global_step/sec: 653.401\n",
            "INFO:tensorflow:loss = 0.4951394, step = 900 (0.153 sec)\n",
            "INFO:tensorflow:global_step/sec: 659.48\n",
            "INFO:tensorflow:loss = 0.4813379, step = 1000 (0.154 sec)\n",
            "INFO:tensorflow:global_step/sec: 644.302\n",
            "INFO:tensorflow:loss = 0.47703922, step = 1100 (0.153 sec)\n",
            "INFO:tensorflow:global_step/sec: 634.205\n",
            "INFO:tensorflow:loss = 0.4660783, step = 1200 (0.158 sec)\n",
            "INFO:tensorflow:global_step/sec: 635.782\n",
            "INFO:tensorflow:loss = 0.466685, step = 1300 (0.163 sec)\n",
            "INFO:tensorflow:global_step/sec: 601.155\n",
            "INFO:tensorflow:loss = 0.45921785, step = 1400 (0.160 sec)\n",
            "INFO:tensorflow:global_step/sec: 658.114\n",
            "INFO:tensorflow:loss = 0.45047092, step = 1500 (0.152 sec)\n",
            "INFO:tensorflow:global_step/sec: 624.35\n",
            "INFO:tensorflow:loss = 0.44338843, step = 1600 (0.161 sec)\n",
            "INFO:tensorflow:global_step/sec: 668.33\n",
            "INFO:tensorflow:loss = 0.43953955, step = 1700 (0.149 sec)\n",
            "INFO:tensorflow:global_step/sec: 639.705\n",
            "INFO:tensorflow:loss = 0.43756205, step = 1800 (0.159 sec)\n",
            "INFO:tensorflow:global_step/sec: 613.869\n",
            "INFO:tensorflow:loss = 0.42011172, step = 1900 (0.163 sec)\n",
            "INFO:tensorflow:global_step/sec: 652.589\n",
            "INFO:tensorflow:loss = 0.44167295, step = 2000 (0.153 sec)\n",
            "INFO:tensorflow:global_step/sec: 670.365\n",
            "INFO:tensorflow:loss = 0.42529905, step = 2100 (0.149 sec)\n",
            "INFO:tensorflow:global_step/sec: 637.222\n",
            "INFO:tensorflow:loss = 0.4251927, step = 2200 (0.159 sec)\n",
            "INFO:tensorflow:global_step/sec: 642.891\n",
            "INFO:tensorflow:loss = 0.4022265, step = 2300 (0.154 sec)\n",
            "INFO:tensorflow:global_step/sec: 674.915\n",
            "INFO:tensorflow:loss = 0.40439284, step = 2400 (0.146 sec)\n",
            "INFO:tensorflow:global_step/sec: 676.922\n",
            "INFO:tensorflow:loss = 0.403695, step = 2500 (0.150 sec)\n",
            "INFO:tensorflow:global_step/sec: 593.247\n",
            "INFO:tensorflow:loss = 0.39621025, step = 2600 (0.168 sec)\n",
            "INFO:tensorflow:global_step/sec: 661.52\n",
            "INFO:tensorflow:loss = 0.3926776, step = 2700 (0.149 sec)\n",
            "INFO:tensorflow:global_step/sec: 645.296\n",
            "INFO:tensorflow:loss = 0.39808914, step = 2800 (0.155 sec)\n",
            "INFO:tensorflow:global_step/sec: 661.469\n",
            "INFO:tensorflow:loss = 0.3857172, step = 2900 (0.151 sec)\n",
            "INFO:tensorflow:global_step/sec: 637.444\n",
            "INFO:tensorflow:loss = 0.38411623, step = 3000 (0.157 sec)\n",
            "INFO:tensorflow:global_step/sec: 646.529\n",
            "INFO:tensorflow:loss = 0.3877554, step = 3100 (0.157 sec)\n",
            "INFO:tensorflow:global_step/sec: 647.17\n",
            "INFO:tensorflow:loss = 0.3826999, step = 3200 (0.154 sec)\n",
            "INFO:tensorflow:global_step/sec: 666.59\n",
            "INFO:tensorflow:loss = 0.37447345, step = 3300 (0.150 sec)\n",
            "INFO:tensorflow:global_step/sec: 664.098\n",
            "INFO:tensorflow:loss = 0.36724937, step = 3400 (0.148 sec)\n",
            "INFO:tensorflow:global_step/sec: 678.321\n",
            "INFO:tensorflow:loss = 0.36773795, step = 3500 (0.147 sec)\n",
            "INFO:tensorflow:global_step/sec: 654.138\n",
            "INFO:tensorflow:loss = 0.35450864, step = 3600 (0.154 sec)\n",
            "INFO:tensorflow:global_step/sec: 651.027\n",
            "INFO:tensorflow:loss = 0.3617459, step = 3700 (0.153 sec)\n",
            "INFO:tensorflow:global_step/sec: 668.595\n",
            "INFO:tensorflow:loss = 0.35695904, step = 3800 (0.150 sec)\n",
            "INFO:tensorflow:global_step/sec: 622.822\n",
            "INFO:tensorflow:loss = 0.3575487, step = 3900 (0.166 sec)\n",
            "INFO:tensorflow:global_step/sec: 637.176\n",
            "INFO:tensorflow:loss = 0.35460627, step = 4000 (0.152 sec)\n",
            "INFO:tensorflow:global_step/sec: 645.327\n",
            "INFO:tensorflow:loss = 0.35050577, step = 4100 (0.157 sec)\n",
            "INFO:tensorflow:global_step/sec: 674.762\n",
            "INFO:tensorflow:loss = 0.33770028, step = 4200 (0.147 sec)\n",
            "INFO:tensorflow:global_step/sec: 652.928\n",
            "INFO:tensorflow:loss = 0.33453882, step = 4300 (0.155 sec)\n",
            "INFO:tensorflow:global_step/sec: 669.912\n",
            "INFO:tensorflow:loss = 0.3430236, step = 4400 (0.149 sec)\n",
            "INFO:tensorflow:global_step/sec: 661.343\n",
            "INFO:tensorflow:loss = 0.33292875, step = 4500 (0.149 sec)\n",
            "INFO:tensorflow:global_step/sec: 532.013\n",
            "INFO:tensorflow:loss = 0.33401194, step = 4600 (0.190 sec)\n",
            "INFO:tensorflow:global_step/sec: 630.061\n",
            "INFO:tensorflow:loss = 0.3368723, step = 4700 (0.156 sec)\n",
            "INFO:tensorflow:global_step/sec: 608.82\n",
            "INFO:tensorflow:loss = 0.32971823, step = 4800 (0.167 sec)\n",
            "INFO:tensorflow:global_step/sec: 660.026\n",
            "INFO:tensorflow:loss = 0.3249801, step = 4900 (0.150 sec)\n",
            "INFO:tensorflow:Calling checkpoint listeners before saving checkpoint 5000...\n",
            "INFO:tensorflow:Saving checkpoints for 5000 into /tmp/tmpibn0d9pn/model.ckpt.\n",
            "INFO:tensorflow:Calling checkpoint listeners after saving checkpoint 5000...\n",
            "INFO:tensorflow:Loss for final step: 0.32498068.\n"
          ],
          "name": "stdout"
        },
        {
          "output_type": "execute_result",
          "data": {
            "text/plain": [
              "<tensorflow_estimator.python.estimator.canned.dnn.DNNClassifierV2 at 0x7fa61fe1bc18>"
            ]
          },
          "metadata": {
            "tags": []
          },
          "execution_count": 21
        }
      ]
    },
    {
      "cell_type": "code",
      "metadata": {
        "id": "Ff_AbZ32clJK",
        "colab_type": "code",
        "outputId": "b9a61f19-9635-410a-fcf4-fe5ddde5a7e5",
        "colab": {
          "base_uri": "https://localhost:8080/",
          "height": 129
        }
      },
      "source": [
        "eval_result = classifier.evaluate(input_fn=lambda: input_fn(test, test_y, training=False)\n",
        "print('\\nTest set accuracy: {accuracy:0.3f}\\n'.format(**eval_result))\n"
      ],
      "execution_count": 0,
      "outputs": [
        {
          "output_type": "error",
          "ename": "SyntaxError",
          "evalue": "ignored",
          "traceback": [
            "\u001b[0;36m  File \u001b[0;32m\"<ipython-input-35-3a18f27f2035>\"\u001b[0;36m, line \u001b[0;32m2\u001b[0m\n\u001b[0;31m    print('\\n Test set accuracy: {accuracy:0.3f}\\n'.format(**eval_result))\u001b[0m\n\u001b[0m        ^\u001b[0m\n\u001b[0;31mSyntaxError\u001b[0m\u001b[0;31m:\u001b[0m invalid syntax\n"
          ]
        }
      ]
    },
    {
      "cell_type": "code",
      "metadata": {
        "id": "nSClR2PwN4Jp",
        "colab_type": "code",
        "colab": {
          "base_uri": "https://localhost:8080/",
          "height": 221
        },
        "outputId": "2ebeee8e-09a4-427c-a387-b13a650e9d65"
      },
      "source": [
        "def input_fn(features, batch_size=256):\n",
        "  #convert input into dataset without labels\n",
        "  return tf.data.Dataset.from_tensor_slices(dict(features)).batch(batch_size)\n",
        "\n",
        "features =  ['SepalLength','SepalWidth', 'PetalLength', 'PetalWidth']\n",
        "predict = {}\n",
        "\n",
        "print(\"Please input numeric values as prompted\")\n",
        "for feature in features:\n",
        "  valid = True\n",
        "  while valid:\n",
        "    val = input(feature + \": \")\n",
        "    if not val.isdigit(): valid = False\n",
        "\n",
        "\n",
        "  predict[feature] = [float(val)]\n",
        "\n",
        "\n",
        "predictions = classifier.predict(input_fn=lambda: input_fn(predict))\n",
        "for pred_dict in predictions:\n",
        "    class_id = pred_dict['class_ids'][0]\n",
        "    probability = pred_dict['probabilities'][class_id]\n",
        "\n",
        "    print('production is \"{}\"  ({:.1f}%)'.format(\n",
        "        SPECIES[class_id], 100 * probability))"
      ],
      "execution_count": 22,
      "outputs": [
        {
          "output_type": "stream",
          "text": [
            "Please input numeric values as prompted\n",
            "SepalLength: 1.3\n",
            "SepalWidth: 1.4\n",
            "PetalLength: 1.2\n",
            "PetalWidth: 1.1\n",
            "INFO:tensorflow:Calling model_fn.\n",
            "INFO:tensorflow:Done calling model_fn.\n",
            "INFO:tensorflow:Graph was finalized.\n",
            "INFO:tensorflow:Restoring parameters from /tmp/tmpibn0d9pn/model.ckpt-5000\n",
            "INFO:tensorflow:Running local_init_op.\n",
            "INFO:tensorflow:Done running local_init_op.\n",
            "production is \"Versicolour\"  (38.2%)\n"
          ],
          "name": "stdout"
        }
      ]
    }
  ]
}